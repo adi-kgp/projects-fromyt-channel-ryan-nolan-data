{
 "cells": [
  {
   "cell_type": "markdown",
   "id": "396d69e4-8bb6-4fcb-9ecc-898589cb21c6",
   "metadata": {},
   "source": [
    "## Python One Sample T Test "
   ]
  },
  {
   "cell_type": "code",
   "execution_count": 1,
   "id": "c881ea41-19be-4009-bee1-0faa578aeaa1",
   "metadata": {},
   "outputs": [],
   "source": [
    "import numpy as np\n",
    "from scipy import stats\n",
    "import matplotlib.pyplot as plt\n",
    "import seaborn as sns"
   ]
  },
  {
   "cell_type": "code",
   "execution_count": 13,
   "id": "fde48241-3df7-4adf-973a-4d4d793d819a",
   "metadata": {},
   "outputs": [],
   "source": [
    "# Example 1 (Manual Calculation)\n",
    "null_hypothesis_mean = 7.5"
   ]
  },
  {
   "cell_type": "code",
   "execution_count": 3,
   "id": "ed327bee-fe39-494f-a7b7-1e948fed4d62",
   "metadata": {},
   "outputs": [],
   "source": [
    "confidence_level = 0.95"
   ]
  },
  {
   "cell_type": "code",
   "execution_count": 19,
   "id": "84c9bace-5f6a-4d58-84b0-b1437d18f3af",
   "metadata": {},
   "outputs": [
    {
     "data": {
      "text/plain": [
       "0.050000000000000044"
      ]
     },
     "execution_count": 19,
     "metadata": {},
     "output_type": "execute_result"
    }
   ],
   "source": [
    "alpha = 1 - confidence_level\n",
    "alpha"
   ]
  },
  {
   "cell_type": "code",
   "execution_count": 5,
   "id": "f65f9222-332f-45d1-926b-9578051eefd2",
   "metadata": {},
   "outputs": [],
   "source": [
    "sample_hat_sizes = [7.4, 7.6, 7.7, 7.3, 7.5, 7.8, 7.6]"
   ]
  },
  {
   "cell_type": "code",
   "execution_count": 6,
   "id": "b8d525cc-c05b-464c-81da-84943a55ae80",
   "metadata": {},
   "outputs": [],
   "source": [
    "# Step 2 (Sample Mean)"
   ]
  },
  {
   "cell_type": "code",
   "execution_count": 7,
   "id": "0714afc6-4091-408e-95b2-d244dadd78c1",
   "metadata": {},
   "outputs": [
    {
     "name": "stdout",
     "output_type": "stream",
     "text": [
      "7.557142857142857\n"
     ]
    }
   ],
   "source": [
    "sample_mean = np.mean(sample_hat_sizes)\n",
    "print(sample_mean)"
   ]
  },
  {
   "cell_type": "code",
   "execution_count": 8,
   "id": "16c78f37-9b8c-4939-8617-3017a3cfcbe8",
   "metadata": {},
   "outputs": [],
   "source": [
    "# Step 3 Calculate Standard Deviation"
   ]
  },
  {
   "cell_type": "code",
   "execution_count": 9,
   "id": "326ea375-8a9f-48a2-bb5d-518e079f49ce",
   "metadata": {},
   "outputs": [],
   "source": [
    "sample_std = np.std(sample_hat_sizes, ddof=1)"
   ]
  },
  {
   "cell_type": "code",
   "execution_count": 10,
   "id": "7f8fae80-c126-4def-bb4f-f120c18e3e84",
   "metadata": {},
   "outputs": [
    {
     "name": "stdout",
     "output_type": "stream",
     "text": [
      "0.17182493859684486\n"
     ]
    }
   ],
   "source": [
    "print(sample_std)"
   ]
  },
  {
   "cell_type": "code",
   "execution_count": 11,
   "id": "dab227aa-d209-4302-bdd3-b131f7375978",
   "metadata": {},
   "outputs": [],
   "source": [
    "# Step 4 t-statistic"
   ]
  },
  {
   "cell_type": "code",
   "execution_count": 12,
   "id": "17ca202a-d920-43a2-852a-baa4f9577bcf",
   "metadata": {},
   "outputs": [],
   "source": [
    "n = len(sample_hat_sizes)"
   ]
  },
  {
   "cell_type": "code",
   "execution_count": 15,
   "id": "01dc4f86-cfb2-41ab-8222-9bd6c5ee2cb4",
   "metadata": {},
   "outputs": [
    {
     "data": {
      "text/plain": [
       "0.8798826901281169"
      ]
     },
     "execution_count": 15,
     "metadata": {},
     "output_type": "execute_result"
    }
   ],
   "source": [
    "t_statistic = (sample_mean - null_hypothesis_mean) / (sample_std/np.sqrt(n))\n",
    "t_statistic"
   ]
  },
  {
   "cell_type": "code",
   "execution_count": 16,
   "id": "360b40db-5019-442a-bb79-325c2d8392f0",
   "metadata": {},
   "outputs": [],
   "source": [
    "# Step 5 Degrees of freedom and p value"
   ]
  },
  {
   "cell_type": "code",
   "execution_count": 17,
   "id": "8b15dd33-0e81-476a-ae75-fb593bae4154",
   "metadata": {},
   "outputs": [],
   "source": [
    "degrees_of_freedom = n - 1"
   ]
  },
  {
   "cell_type": "code",
   "execution_count": 18,
   "id": "f7d919b4-4d0b-4a42-9d43-fbac53e86e20",
   "metadata": {},
   "outputs": [
    {
     "name": "stdout",
     "output_type": "stream",
     "text": [
      "0.41277302537781635\n"
     ]
    }
   ],
   "source": [
    "p_value = 2 * (1 - stats.t.cdf(t_statistic, df=degrees_of_freedom))\n",
    "print(p_value)"
   ]
  },
  {
   "cell_type": "code",
   "execution_count": 20,
   "id": "77342ae2-9135-4e72-b4b7-97c95ca9c3e7",
   "metadata": {},
   "outputs": [
    {
     "name": "stdout",
     "output_type": "stream",
     "text": [
      "Fail to reject the null hypothesis\n"
     ]
    }
   ],
   "source": [
    "if p_value < alpha:\n",
    "    print(\"Reject the null hypothesis\")\n",
    "else:\n",
    "    print(\"Fail to reject the null hypothesis\")"
   ]
  },
  {
   "cell_type": "code",
   "execution_count": 21,
   "id": "5155093d-7aa4-4e4e-9e9c-75f9d10123b8",
   "metadata": {},
   "outputs": [],
   "source": [
    "# Example 2 Shoes Two Tail"
   ]
  },
  {
   "cell_type": "code",
   "execution_count": 22,
   "id": "597617fb-6da7-421a-b891-8d312adf0e61",
   "metadata": {},
   "outputs": [],
   "source": [
    "alpha = 0.05"
   ]
  },
  {
   "cell_type": "code",
   "execution_count": 23,
   "id": "28eaadb9-1493-4be1-b814-611d74ed7801",
   "metadata": {},
   "outputs": [],
   "source": [
    "sample_data = [380, 410, 395, 405, 390]"
   ]
  },
  {
   "cell_type": "code",
   "execution_count": 24,
   "id": "c6c4e626-2a57-4937-b026-0348982a0ba9",
   "metadata": {},
   "outputs": [],
   "source": [
    "population_mean = 400"
   ]
  },
  {
   "cell_type": "code",
   "execution_count": 25,
   "id": "19dc8479-e89e-4578-ae4c-926a77fd677a",
   "metadata": {},
   "outputs": [],
   "source": [
    "t_statistic, p_value_two_tailed = stats.ttest_1samp(sample_data, population_mean)"
   ]
  },
  {
   "cell_type": "code",
   "execution_count": 26,
   "id": "908304ca-c790-4db4-a573-ef16ed2885b9",
   "metadata": {},
   "outputs": [
    {
     "name": "stdout",
     "output_type": "stream",
     "text": [
      "-0.7492686492653552\n"
     ]
    }
   ],
   "source": [
    "print(t_statistic)"
   ]
  },
  {
   "cell_type": "code",
   "execution_count": 27,
   "id": "59cbe91a-9a37-4bcd-9c61-045795539487",
   "metadata": {},
   "outputs": [
    {
     "name": "stdout",
     "output_type": "stream",
     "text": [
      "0.4953543088910324\n"
     ]
    }
   ],
   "source": [
    "print(p_value_two_tailed)"
   ]
  },
  {
   "cell_type": "code",
   "execution_count": 29,
   "id": "5d6b8a27-c47c-4fe7-a5c3-db328323c3c8",
   "metadata": {},
   "outputs": [
    {
     "name": "stdout",
     "output_type": "stream",
     "text": [
      "Fail to reject null hypothesis\n"
     ]
    }
   ],
   "source": [
    "if p_value_two_tailed < alpha:\n",
    "    print(\"Reject Null Hypothesis\")\n",
    "else:\n",
    "    print(\"Fail to reject null hypothesis\")"
   ]
  },
  {
   "cell_type": "code",
   "execution_count": 31,
   "id": "3c13cf7b-c3b8-4617-8b44-4b5a1ba725cc",
   "metadata": {},
   "outputs": [],
   "source": [
    "# Example 3 Compare the rookie batting average to the leagues\n",
    "\n",
    "# null hypothesis rookie batting average is the same as the leagues\n",
    "# alt rookies batting average is less than the league average\n",
    "# 99% Confidence level"
   ]
  },
  {
   "cell_type": "code",
   "execution_count": 32,
   "id": "f2589043-08df-4267-b207-26bc5007536d",
   "metadata": {},
   "outputs": [],
   "source": [
    "alpha = 0.01"
   ]
  },
  {
   "cell_type": "code",
   "execution_count": 34,
   "id": "89c76fe3-dd37-456d-a394-f97c3ca7eaf2",
   "metadata": {},
   "outputs": [],
   "source": [
    "rookie_batting_averages = [0.210, 0.250, 0.147, 0.286, 0.214, 0.123, 0.145, 0.178, 0.120]"
   ]
  },
  {
   "cell_type": "code",
   "execution_count": 35,
   "id": "66da4853-0be7-4089-b0d6-708d6614dd4d",
   "metadata": {},
   "outputs": [],
   "source": [
    "mean_rookie_avg = np.mean(rookie_batting_averages)"
   ]
  },
  {
   "cell_type": "code",
   "execution_count": 36,
   "id": "a2555d43-6b0f-4a63-bdaf-79750e9a05fd",
   "metadata": {},
   "outputs": [
    {
     "data": {
      "text/plain": [
       "0.18588888888888888"
      ]
     },
     "execution_count": 36,
     "metadata": {},
     "output_type": "execute_result"
    }
   ],
   "source": [
    "mean_rookie_avg"
   ]
  },
  {
   "cell_type": "code",
   "execution_count": 37,
   "id": "7dedb7a5-d1ed-4d73-8ef1-7bf4d8339e76",
   "metadata": {},
   "outputs": [],
   "source": [
    "league_avg = 0.25"
   ]
  },
  {
   "cell_type": "code",
   "execution_count": 38,
   "id": "cdb5b38c-bcf8-43ff-a77c-3ca15b7c431a",
   "metadata": {},
   "outputs": [],
   "source": [
    "t_statistic, p_value_two_tailed = stats.ttest_1samp(rookie_batting_averages, league_avg)"
   ]
  },
  {
   "cell_type": "code",
   "execution_count": 39,
   "id": "60005c04-360c-4dcf-b070-5f75a8e82f58",
   "metadata": {},
   "outputs": [],
   "source": [
    "p_value_one_tailed = p_value_two_tailed / 2"
   ]
  },
  {
   "cell_type": "code",
   "execution_count": 41,
   "id": "51c92dde-fcea-4d56-b3e9-7175907818eb",
   "metadata": {},
   "outputs": [
    {
     "data": {
      "text/plain": [
       "(-3.3078125719237517, 0.005366567310049671)"
      ]
     },
     "execution_count": 41,
     "metadata": {},
     "output_type": "execute_result"
    }
   ],
   "source": [
    "t_statistic, p_value_one_tailed"
   ]
  },
  {
   "cell_type": "code",
   "execution_count": 43,
   "id": "c955a9c1-6b6e-4462-95d3-ed82735a1224",
   "metadata": {},
   "outputs": [
    {
     "name": "stdout",
     "output_type": "stream",
     "text": [
      "Reject the null hypothesis. The rookie's average is significantly lower from the league average\n"
     ]
    }
   ],
   "source": [
    "if p_value_one_tailed < alpha:\n",
    "    print(\"Reject the null hypothesis. The rookie's average is significantly lower from the league average\")\n",
    "else:\n",
    "    print(\"Faile to reject the null hypothesis. There is no significant difference between the rookies' average and the league average\")"
   ]
  },
  {
   "cell_type": "code",
   "execution_count": 44,
   "id": "dc4071ed-18e1-4d9f-9511-5d223c939495",
   "metadata": {},
   "outputs": [],
   "source": [
    "# Example 4 boxplot"
   ]
  },
  {
   "cell_type": "code",
   "execution_count": 49,
   "id": "d2e33f1d-a2a5-4be8-a522-c2cc35442285",
   "metadata": {},
   "outputs": [
    {
     "data": {
      "image/png": "[encoded data removed]",
      "text/plain": [
       "<Figure size 600x500 with 1 Axes>"
      ]
     },
     "metadata": {},
     "output_type": "display_data"
    }
   ],
   "source": [
    "plt.figure(figsize=(6,5))\n",
    "sns.boxplot(data=[rookie_batting_averages, np.full(len(rookie_batting_averages), league_avg)])\n",
    "plt.xticks([0, 1], ['Rookies', 'League AVG'])\n",
    "plt.title('Rookie Batting Averages Vs League Average')\n",
    "plt.ylabel('Batting Average')\n",
    "plt.show()"
   ]
  },
  {
   "cell_type": "code",
   "execution_count": 50,
   "id": "0fb1229c-cebf-4836-b152-f3cdfdf26de1",
   "metadata": {},
   "outputs": [],
   "source": [
    "# Example 5 99% Confidence Interval"
   ]
  },
  {
   "cell_type": "code",
   "execution_count": 51,
   "id": "f7a01882-0b75-45dd-8669-56eca2bf0405",
   "metadata": {},
   "outputs": [],
   "source": [
    "std_error = stats.sem(rookie_batting_averages)"
   ]
  },
  {
   "cell_type": "code",
   "execution_count": 65,
   "id": "3500ff1a-2a76-40a3-a8c3-1de1ac414c14",
   "metadata": {},
   "outputs": [],
   "source": [
    "confidence_interval = stats.t.interval(0.99, len(rookie_batting_averages) - 1, loc = mean_rookie_avg, scale=std_error)"
   ]
  },
  {
   "cell_type": "code",
   "execution_count": 66,
   "id": "4ffa5958-ea4d-4073-8fa0-017eab205891",
   "metadata": {
    "scrolled": true
   },
   "outputs": [
    {
     "data": {
      "text/plain": [
       "\u001b[0;31mSignature:\u001b[0m \u001b[0mstats\u001b[0m\u001b[0;34m.\u001b[0m\u001b[0mt\u001b[0m\u001b[0;34m.\u001b[0m\u001b[0minterval\u001b[0m\u001b[0;34m(\u001b[0m\u001b[0mconfidence\u001b[0m\u001b[0;34m,\u001b[0m \u001b[0;34m*\u001b[0m\u001b[0margs\u001b[0m\u001b[0;34m,\u001b[0m \u001b[0;34m**\u001b[0m\u001b[0mkwds\u001b[0m\u001b[0;34m)\u001b[0m\u001b[0;34m\u001b[0m\u001b[0;34m\u001b[0m\u001b[0m\n",
       "\u001b[0;31mDocstring:\u001b[0m\n",
       "Confidence interval with equal areas around the median.\n",
       "\n",
       "Parameters\n",
       "----------\n",
       "confidence : array_like of float\n",
       "    Probability that an rv will be drawn from the returned range.\n",
       "    Each value should be in the range [0, 1].\n",
       "arg1, arg2, ... : array_like\n",
       "    The shape parameter(s) for the distribution (see docstring of the\n",
       "    instance object for more information).\n",
       "loc : array_like, optional\n",
       "    location parameter, Default is 0.\n",
       "scale : array_like, optional\n",
       "    scale parameter, Default is 1.\n",
       "\n",
       "Returns\n",
       "-------\n",
       "a, b : ndarray of float\n",
       "    end-points of range that contain ``100 * alpha %`` of the rv's\n",
       "    possible values.\n",
       "\n",
       "Notes\n",
       "-----\n",
       "This is implemented as ``ppf([p_tail, 1-p_tail])``, where\n",
       "``ppf`` is the inverse cumulative distribution function and\n",
       "``p_tail = (1-confidence)/2``. Suppose ``[c, d]`` is the support of a\n",
       "discrete distribution; then ``ppf([0, 1]) == (c-1, d)``. Therefore,\n",
       "when ``confidence=1`` and the distribution is discrete, the left end\n",
       "of the interval will be beyond the support of the distribution.\n",
       "For discrete distributions, the interval will limit the probability\n",
       "in each tail to be less than or equal to ``p_tail`` (usually\n",
       "strictly less).\n",
       "\u001b[0;31mFile:\u001b[0m      ~/miniconda3/envs/dsenv/lib/python3.12/site-packages/scipy/stats/_distn_infrastructure.py\n",
       "\u001b[0;31mType:\u001b[0m      method"
      ]
     },
     "metadata": {},
     "output_type": "display_data"
    }
   ],
   "source": [
    "stats.t.interval?"
   ]
  },
  {
   "cell_type": "code",
   "execution_count": 67,
   "id": "27a5b0c0-faf5-4c7a-b1cb-aad985603b5f",
   "metadata": {},
   "outputs": [
    {
     "data": {
      "text/plain": [
       "(0.12085569691005127, 0.2509220808677265)"
      ]
     },
     "execution_count": 67,
     "metadata": {},
     "output_type": "execute_result"
    }
   ],
   "source": [
    "confidence_interval"
   ]
  },
  {
   "cell_type": "code",
   "execution_count": 72,
   "id": "f5a6f26f-157f-40e0-83e4-729d50cc53ba",
   "metadata": {},
   "outputs": [
    {
     "data": {
      "image/png": "[encoded data removed]",
      "text/plain": [
       "<Figure size 1000x600 with 1 Axes>"
      ]
     },
     "metadata": {},
     "output_type": "display_data"
    }
   ],
   "source": [
    "plt.figure(figsize=(10, 6))\n",
    "plt.errorbar(1, mean_rookie_avg, yerr=(confidence_interval[1] - mean_rookie_avg))\n",
    "plt.axhline(league_avg, color='red', linestyle='--', label='League Average ')\n",
    "plt.xlim(0, 2)\n",
    "plt.ylim(min(rookie_batting_averages) - 0.05, max(rookie_batting_averages) + 0.05)\n",
    "# plt.xticks([])\n",
    "plt.ylabel('Batting Average')\n",
    "plt.title('Rookie Batting Average vs League Average with 99% Confidence Interval')\n",
    "plt.legend()\n",
    "plt.show()"
   ]
  },
  {
   "cell_type": "code",
   "execution_count": 69,
   "id": "223dd15c-40c5-4295-b650-dd0fc73a5378",
   "metadata": {
    "scrolled": true
   },
   "outputs": [
    {
     "data": {
      "text/plain": [
       "\u001b[0;31mSignature:\u001b[0m\n",
       "\u001b[0mplt\u001b[0m\u001b[0;34m.\u001b[0m\u001b[0merrorbar\u001b[0m\u001b[0;34m(\u001b[0m\u001b[0;34m\u001b[0m\n",
       "\u001b[0;34m\u001b[0m    \u001b[0mx\u001b[0m\u001b[0;34m:\u001b[0m \u001b[0;34m'float | ArrayLike'\u001b[0m\u001b[0;34m,\u001b[0m\u001b[0;34m\u001b[0m\n",
       "\u001b[0;34m\u001b[0m    \u001b[0my\u001b[0m\u001b[0;34m:\u001b[0m \u001b[0;34m'float | ArrayLike'\u001b[0m\u001b[0;34m,\u001b[0m\u001b[0;34m\u001b[0m\n",
       "\u001b[0;34m\u001b[0m    \u001b[0myerr\u001b[0m\u001b[0;34m:\u001b[0m \u001b[0;34m'float | ArrayLike | None'\u001b[0m \u001b[0;34m=\u001b[0m \u001b[0;32mNone\u001b[0m\u001b[0;34m,\u001b[0m\u001b[0;34m\u001b[0m\n",
       "\u001b[0;34m\u001b[0m    \u001b[0mxerr\u001b[0m\u001b[0;34m:\u001b[0m \u001b[0;34m'float | ArrayLike | None'\u001b[0m \u001b[0;34m=\u001b[0m \u001b[0;32mNone\u001b[0m\u001b[0;34m,\u001b[0m\u001b[0;34m\u001b[0m\n",
       "\u001b[0;34m\u001b[0m    \u001b[0mfmt\u001b[0m\u001b[0;34m:\u001b[0m \u001b[0;34m'str'\u001b[0m \u001b[0;34m=\u001b[0m \u001b[0;34m''\u001b[0m\u001b[0;34m,\u001b[0m\u001b[0;34m\u001b[0m\n",
       "\u001b[0;34m\u001b[0m    \u001b[0mecolor\u001b[0m\u001b[0;34m:\u001b[0m \u001b[0;34m'ColorType | None'\u001b[0m \u001b[0;34m=\u001b[0m \u001b[0;32mNone\u001b[0m\u001b[0;34m,\u001b[0m\u001b[0;34m\u001b[0m\n",
       "\u001b[0;34m\u001b[0m    \u001b[0melinewidth\u001b[0m\u001b[0;34m:\u001b[0m \u001b[0;34m'float | None'\u001b[0m \u001b[0;34m=\u001b[0m \u001b[0;32mNone\u001b[0m\u001b[0;34m,\u001b[0m\u001b[0;34m\u001b[0m\n",
       "\u001b[0;34m\u001b[0m    \u001b[0mcapsize\u001b[0m\u001b[0;34m:\u001b[0m \u001b[0;34m'float | None'\u001b[0m \u001b[0;34m=\u001b[0m \u001b[0;32mNone\u001b[0m\u001b[0;34m,\u001b[0m\u001b[0;34m\u001b[0m\n",
       "\u001b[0;34m\u001b[0m    \u001b[0mbarsabove\u001b[0m\u001b[0;34m:\u001b[0m \u001b[0;34m'bool'\u001b[0m \u001b[0;34m=\u001b[0m \u001b[0;32mFalse\u001b[0m\u001b[0;34m,\u001b[0m\u001b[0;34m\u001b[0m\n",
       "\u001b[0;34m\u001b[0m    \u001b[0mlolims\u001b[0m\u001b[0;34m:\u001b[0m \u001b[0;34m'bool | ArrayLike'\u001b[0m \u001b[0;34m=\u001b[0m \u001b[0;32mFalse\u001b[0m\u001b[0;34m,\u001b[0m\u001b[0;34m\u001b[0m\n",
       "\u001b[0;34m\u001b[0m    \u001b[0muplims\u001b[0m\u001b[0;34m:\u001b[0m \u001b[0;34m'bool | ArrayLike'\u001b[0m \u001b[0;34m=\u001b[0m \u001b[0;32mFalse\u001b[0m\u001b[0;34m,\u001b[0m\u001b[0;34m\u001b[0m\n",
       "\u001b[0;34m\u001b[0m    \u001b[0mxlolims\u001b[0m\u001b[0;34m:\u001b[0m \u001b[0;34m'bool | ArrayLike'\u001b[0m \u001b[0;34m=\u001b[0m \u001b[0;32mFalse\u001b[0m\u001b[0;34m,\u001b[0m\u001b[0;34m\u001b[0m\n",
       "\u001b[0;34m\u001b[0m    \u001b[0mxuplims\u001b[0m\u001b[0;34m:\u001b[0m \u001b[0;34m'bool | ArrayLike'\u001b[0m \u001b[0;34m=\u001b[0m \u001b[0;32mFalse\u001b[0m\u001b[0;34m,\u001b[0m\u001b[0;34m\u001b[0m\n",
       "\u001b[0;34m\u001b[0m    \u001b[0merrorevery\u001b[0m\u001b[0;34m:\u001b[0m \u001b[0;34m'int | tuple[int, int]'\u001b[0m \u001b[0;34m=\u001b[0m \u001b[0;36m1\u001b[0m\u001b[0;34m,\u001b[0m\u001b[0;34m\u001b[0m\n",
       "\u001b[0;34m\u001b[0m    \u001b[0mcapthick\u001b[0m\u001b[0;34m:\u001b[0m \u001b[0;34m'float | None'\u001b[0m \u001b[0;34m=\u001b[0m \u001b[0;32mNone\u001b[0m\u001b[0;34m,\u001b[0m\u001b[0;34m\u001b[0m\n",
       "\u001b[0;34m\u001b[0m    \u001b[0;34m*\u001b[0m\u001b[0;34m,\u001b[0m\u001b[0;34m\u001b[0m\n",
       "\u001b[0;34m\u001b[0m    \u001b[0mdata\u001b[0m\u001b[0;34m=\u001b[0m\u001b[0;32mNone\u001b[0m\u001b[0;34m,\u001b[0m\u001b[0;34m\u001b[0m\n",
       "\u001b[0;34m\u001b[0m    \u001b[0;34m**\u001b[0m\u001b[0mkwargs\u001b[0m\u001b[0;34m,\u001b[0m\u001b[0;34m\u001b[0m\n",
       "\u001b[0;34m\u001b[0m\u001b[0;34m)\u001b[0m \u001b[0;34m->\u001b[0m \u001b[0;34m'ErrorbarContainer'\u001b[0m\u001b[0;34m\u001b[0m\u001b[0;34m\u001b[0m\u001b[0m\n",
       "\u001b[0;31mDocstring:\u001b[0m\n",
       "Plot y versus x as lines and/or markers with attached errorbars.\n",
       "\n",
       "*x*, *y* define the data locations, *xerr*, *yerr* define the errorbar\n",
       "sizes. By default, this draws the data markers/lines as well as the\n",
       "errorbars. Use fmt='none' to draw errorbars without any data markers.\n",
       "\n",
       ".. versionadded:: 3.7\n",
       "   Caps and error lines are drawn in polar coordinates on polar plots.\n",
       "\n",
       "\n",
       "Parameters\n",
       "----------\n",
       "x, y : float or array-like\n",
       "    The data positions.\n",
       "\n",
       "xerr, yerr : float or array-like, shape(N,) or shape(2, N), optional\n",
       "    The errorbar sizes:\n",
       "\n",
       "    - scalar: Symmetric +/- values for all data points.\n",
       "    - shape(N,): Symmetric +/-values for each data point.\n",
       "    - shape(2, N): Separate - and + values for each bar. First row\n",
       "      contains the lower errors, the second row contains the upper\n",
       "      errors.\n",
       "    - *None*: No errorbar.\n",
       "\n",
       "    All values must be >= 0.\n",
       "\n",
       "    See :doc:`/gallery/statistics/errorbar_features`\n",
       "    for an example on the usage of ``xerr`` and ``yerr``.\n",
       "\n",
       "fmt : str, default: ''\n",
       "    The format for the data points / data lines. See `.plot` for\n",
       "    details.\n",
       "\n",
       "    Use 'none' (case-insensitive) to plot errorbars without any data\n",
       "    markers.\n",
       "\n",
       "ecolor : :mpltype:`color`, default: None\n",
       "    The color of the errorbar lines.  If None, use the color of the\n",
       "    line connecting the markers.\n",
       "\n",
       "elinewidth : float, default: None\n",
       "    The linewidth of the errorbar lines. If None, the linewidth of\n",
       "    the current style is used.\n",
       "\n",
       "capsize : float, default: :rc:`errorbar.capsize`\n",
       "    The length of the error bar caps in points.\n",
       "\n",
       "capthick : float, default: None\n",
       "    An alias to the keyword argument *markeredgewidth* (a.k.a. *mew*).\n",
       "    This setting is a more sensible name for the property that\n",
       "    controls the thickness of the error bar cap in points. For\n",
       "    backwards compatibility, if *mew* or *markeredgewidth* are given,\n",
       "    then they will over-ride *capthick*. This may change in future\n",
       "    releases.\n",
       "\n",
       "barsabove : bool, default: False\n",
       "    If True, will plot the errorbars above the plot\n",
       "    symbols. Default is below.\n",
       "\n",
       "lolims, uplims, xlolims, xuplims : bool or array-like, default: False\n",
       "    These arguments can be used to indicate that a value gives only\n",
       "    upper/lower limits.  In that case a caret symbol is used to\n",
       "    indicate this. *lims*-arguments may be scalars, or array-likes of\n",
       "    the same length as *xerr* and *yerr*.  To use limits with inverted\n",
       "    axes, `~.Axes.set_xlim` or `~.Axes.set_ylim` must be called before\n",
       "    :meth:`errorbar`.  Note the tricky parameter names: setting e.g.\n",
       "    *lolims* to True means that the y-value is a *lower* limit of the\n",
       "    True value, so, only an *upward*-pointing arrow will be drawn!\n",
       "\n",
       "errorevery : int or (int, int), default: 1\n",
       "    draws error bars on a subset of the data. *errorevery* =N draws\n",
       "    error bars on the points (x[::N], y[::N]).\n",
       "    *errorevery* =(start, N) draws error bars on the points\n",
       "    (x[start::N], y[start::N]). e.g. errorevery=(6, 3)\n",
       "    adds error bars to the data at (x[6], x[9], x[12], x[15], ...).\n",
       "    Used to avoid overlapping error bars when two series share x-axis\n",
       "    values.\n",
       "\n",
       "Returns\n",
       "-------\n",
       "`.ErrorbarContainer`\n",
       "    The container contains:\n",
       "\n",
       "    - data_line : A `~matplotlib.lines.Line2D` instance of x, y plot markers\n",
       "      and/or line.\n",
       "    - caplines : A tuple of `~matplotlib.lines.Line2D` instances of the error\n",
       "      bar caps.\n",
       "    - barlinecols : A tuple of `.LineCollection` with the horizontal and\n",
       "      vertical error ranges.\n",
       "\n",
       "Other Parameters\n",
       "----------------\n",
       "data : indexable object, optional\n",
       "    If given, the following parameters also accept a string ``s``, which is\n",
       "    interpreted as ``data[s]`` (unless this raises an exception):\n",
       "\n",
       "    *x*, *y*, *xerr*, *yerr*\n",
       "\n",
       "**kwargs\n",
       "    All other keyword arguments are passed on to the `~.Axes.plot` call\n",
       "    drawing the markers. For example, this code makes big red squares\n",
       "    with thick green edges::\n",
       "\n",
       "        x, y, yerr = rand(3, 10)\n",
       "        errorbar(x, y, yerr, marker='s', mfc='red',\n",
       "                 mec='green', ms=20, mew=4)\n",
       "\n",
       "    where *mfc*, *mec*, *ms* and *mew* are aliases for the longer\n",
       "    property names, *markerfacecolor*, *markeredgecolor*, *markersize*\n",
       "    and *markeredgewidth*.\n",
       "\n",
       "    Valid kwargs for the marker properties are:\n",
       "\n",
       "    - *dashes*\n",
       "    - *dash_capstyle*\n",
       "    - *dash_joinstyle*\n",
       "    - *drawstyle*\n",
       "    - *fillstyle*\n",
       "    - *linestyle*\n",
       "    - *marker*\n",
       "    - *markeredgecolor*\n",
       "    - *markeredgewidth*\n",
       "    - *markerfacecolor*\n",
       "    - *markerfacecoloralt*\n",
       "    - *markersize*\n",
       "    - *markevery*\n",
       "    - *solid_capstyle*\n",
       "    - *solid_joinstyle*\n",
       "\n",
       "    Refer to the corresponding `.Line2D` property for more details:\n",
       "\n",
       "    Properties:\n",
       "    agg_filter: a filter function, which takes a (m, n, 3) float array and a dpi value, and returns a (m, n, 3) array and two offsets from the bottom left corner of the image\n",
       "    alpha: scalar or None\n",
       "    animated: bool\n",
       "    antialiased or aa: bool\n",
       "    clip_box: `~matplotlib.transforms.BboxBase` or None\n",
       "    clip_on: bool\n",
       "    clip_path: Patch or (Path, Transform) or None\n",
       "    color or c: :mpltype:`color`\n",
       "    dash_capstyle: `.CapStyle` or {'butt', 'projecting', 'round'}\n",
       "    dash_joinstyle: `.JoinStyle` or {'miter', 'round', 'bevel'}\n",
       "    dashes: sequence of floats (on/off ink in points) or (None, None)\n",
       "    data: (2, N) array or two 1D arrays\n",
       "    drawstyle or ds: {'default', 'steps', 'steps-pre', 'steps-mid', 'steps-post'}, default: 'default'\n",
       "    figure: `~matplotlib.figure.Figure`\n",
       "    fillstyle: {'full', 'left', 'right', 'bottom', 'top', 'none'}\n",
       "    gapcolor: :mpltype:`color` or None\n",
       "    gid: str\n",
       "    in_layout: bool\n",
       "    label: object\n",
       "    linestyle or ls: {'-', '--', '-.', ':', '', (offset, on-off-seq), ...}\n",
       "    linewidth or lw: float\n",
       "    marker: marker style string, `~.path.Path` or `~.markers.MarkerStyle`\n",
       "    markeredgecolor or mec: :mpltype:`color`\n",
       "    markeredgewidth or mew: float\n",
       "    markerfacecolor or mfc: :mpltype:`color`\n",
       "    markerfacecoloralt or mfcalt: :mpltype:`color`\n",
       "    markersize or ms: float\n",
       "    markevery: None or int or (int, int) or slice or list[int] or float or (float, float) or list[bool]\n",
       "    mouseover: bool\n",
       "    path_effects: list of `.AbstractPathEffect`\n",
       "    picker: float or callable[[Artist, Event], tuple[bool, dict]]\n",
       "    pickradius: float\n",
       "    rasterized: bool\n",
       "    sketch_params: (scale: float, length: float, randomness: float)\n",
       "    snap: bool or None\n",
       "    solid_capstyle: `.CapStyle` or {'butt', 'projecting', 'round'}\n",
       "    solid_joinstyle: `.JoinStyle` or {'miter', 'round', 'bevel'}\n",
       "    transform: unknown\n",
       "    url: str\n",
       "    visible: bool\n",
       "    xdata: 1D array\n",
       "    ydata: 1D array\n",
       "    zorder: float\n",
       "\n",
       "Notes\n",
       "-----\n",
       "\n",
       ".. note::\n",
       "\n",
       "    This is the :ref:`pyplot wrapper <pyplot_interface>` for `.axes.Axes.errorbar`.\n",
       "\u001b[0;31mFile:\u001b[0m      ~/miniconda3/envs/dsenv/lib/python3.12/site-packages/matplotlib/pyplot.py\n",
       "\u001b[0;31mType:\u001b[0m      function"
      ]
     },
     "metadata": {},
     "output_type": "display_data"
    }
   ],
   "source": [
    "plt.errorbar?"
   ]
  },
  {
   "cell_type": "code",
   "execution_count": 70,
   "id": "53798e93-4953-43c5-af66-c2b6fdf6624e",
   "metadata": {},
   "outputs": [
    {
     "data": {
      "text/plain": [
       "0.18588888888888888"
      ]
     },
     "execution_count": 70,
     "metadata": {},
     "output_type": "execute_result"
    }
   ],
   "source": [
    "mean_rookie_avg"
   ]
  },
  {
   "cell_type": "code",
   "execution_count": 73,
   "id": "f9bb7f6e-0b20-49c6-8304-c668398c7b24",
   "metadata": {},
   "outputs": [],
   "source": [
    "# Example 6"
   ]
  },
  {
   "cell_type": "code",
   "execution_count": null,
   "id": "e3d3d440-d3b1-4af1-9bdf-26fb96464141",
   "metadata": {},
   "outputs": [],
   "source": []
  }
 ],
 "metadata": {
  "kernelspec": {
   "display_name": "Python 3 (ipykernel)",
   "language": "python",
   "name": "python3"
  },
  "language_info": {
   "codemirror_mode": {
    "name": "ipython",
    "version": 3
   },
   "file_extension": ".py",
   "mimetype": "text/x-python",
   "name": "python",
   "nbconvert_exporter": "python",
   "pygments_lexer": "ipython3",
   "version": "3.12.7"
  }
 },
 "nbformat": 4,
 "nbformat_minor": 5
}
